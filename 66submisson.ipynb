{
 "cells": [
  {
   "cell_type": "code",
   "execution_count": 3,
   "id": "cd3ccdfa-c92e-49be-8b6d-4d082f473086",
   "metadata": {},
   "outputs": [],
   "source": [
    "from sklearn.model_selection import train_test_split\n",
    "from imblearn.under_sampling import RandomUnderSampler\n",
    "import random\n",
    "import ast\n",
    "import json\n",
    "import numpy as np\n",
    "import pandas as pd\n",
    "from tqdm import tqdm\n",
    "from sklearn.metrics import roc_curve, auc\n",
    "from sklearn.preprocessing import MinMaxScaler, StandardScaler\n",
    "from sklearn.neural_network import MLPClassifier\n",
    "from sklearn.metrics import roc_auc_score\n",
    "from sklearn.linear_model import SGDClassifier\n",
    "from sklearn.model_selection import StratifiedKFold\n",
    "from sklearn.ensemble import RandomForestClassifier\n",
    "from sklearn.linear_model import LogisticRegression\n",
    "from xgboost import XGBClassifier\n",
    "from lightgbm import LGBMClassifier\n",
    "from catboost import CatBoostClassifier\n",
    "\n",
    "import matplotlib.pyplot as plt\n",
    "import seaborn as sns\n",
    "import matplotlib\n",
    "\n",
    "# 使用内置样式\n",
    "plt.style.use('ggplot')\n",
    "\n",
    "# 使用seaborn颜色主题\n",
    "sns.set_palette(\"deep\")\n",
    "\n",
    "# 修改字体和字号\n",
    "matplotlib.rcParams['font.size'] = 12"
   ]
  },
  {
   "cell_type": "code",
   "execution_count": 13,
   "id": "4367d895-e6c8-48e6-86d9-73b5ad3a3d72",
   "metadata": {},
   "outputs": [],
   "source": [
    "preliminary_A_url = f\"./com/A_preliminary.csv\" \n",
    "Curl = f\"./com/C_final.csv\"\n",
    "track2_face_attrs_url = r\"./com/track2_face_attrs.txt\"\n",
    "item_related_data_url = r\"./com/item_related_data.csv\""
   ]
  },
  {
   "cell_type": "markdown",
   "id": "8814d21a-4a6c-4643-ac31-7a8f2e9cdefa",
   "metadata": {
    "tags": []
   },
   "source": [
    "### 数据读取"
   ]
  },
  {
   "cell_type": "markdown",
   "id": "a0d1d142-b5fb-43cc-b5ac-9c975c7581e8",
   "metadata": {
    "tags": []
   },
   "source": [
    "#### preliminary"
   ]
  },
  {
   "cell_type": "code",
   "execution_count": 14,
   "id": "6edc653d-a92d-4f82-9d48-79157d1e8a1a",
   "metadata": {},
   "outputs": [],
   "source": [
    "a_preliminary_data_processed = pd.read_csv(preliminary_A_url).iloc[:,2:]\n",
    "c_preliminary_data_processed = pd.read_csv(Curl).iloc[:,2:].fillna(-1)\n",
    "a_preliminary_data_processed.to_csv(\"./new_data/a_preliminary_data_processed.csv\")\n",
    "c_preliminary_data_processed.to_csv(\"./new_data/c_preliminary_data_processed.csv\")"
   ]
  },
  {
   "cell_type": "markdown",
   "id": "86620fd1-22df-4182-9a55-2962fd58884e",
   "metadata": {},
   "source": [
    "#### item_related_data_df "
   ]
  },
  {
   "cell_type": "code",
   "execution_count": 4,
   "id": "5caf047a-ec9f-4c7c-a029-036000960b68",
   "metadata": {},
   "outputs": [
    {
     "data": {
      "text/html": [
       "<div>\n",
       "<style scoped>\n",
       "    .dataframe tbody tr th:only-of-type {\n",
       "        vertical-align: middle;\n",
       "    }\n",
       "\n",
       "    .dataframe tbody tr th {\n",
       "        vertical-align: top;\n",
       "    }\n",
       "\n",
       "    .dataframe thead th {\n",
       "        text-align: right;\n",
       "    }\n",
       "</style>\n",
       "<table border=\"1\" class=\"dataframe\">\n",
       "  <thead>\n",
       "    <tr style=\"text-align: right;\">\n",
       "      <th></th>\n",
       "      <th>item_id</th>\n",
       "      <th>video_duration</th>\n",
       "      <th>author_id</th>\n",
       "      <th>item_city</th>\n",
       "      <th>music_id</th>\n",
       "    </tr>\n",
       "  </thead>\n",
       "  <tbody>\n",
       "    <tr>\n",
       "      <th>0</th>\n",
       "      <td>46822</td>\n",
       "      <td>0.000229</td>\n",
       "      <td>231026</td>\n",
       "      <td>2</td>\n",
       "      <td>5330</td>\n",
       "    </tr>\n",
       "    <tr>\n",
       "      <th>1</th>\n",
       "      <td>1209078</td>\n",
       "      <td>0.000057</td>\n",
       "      <td>456220</td>\n",
       "      <td>3</td>\n",
       "      <td>39979</td>\n",
       "    </tr>\n",
       "    <tr>\n",
       "      <th>2</th>\n",
       "      <td>1209079</td>\n",
       "      <td>0.000129</td>\n",
       "      <td>456221</td>\n",
       "      <td>4</td>\n",
       "      <td>0</td>\n",
       "    </tr>\n",
       "    <tr>\n",
       "      <th>3</th>\n",
       "      <td>1209081</td>\n",
       "      <td>0.000143</td>\n",
       "      <td>122067</td>\n",
       "      <td>6</td>\n",
       "      <td>3639</td>\n",
       "    </tr>\n",
       "    <tr>\n",
       "      <th>4</th>\n",
       "      <td>269351</td>\n",
       "      <td>0.000057</td>\n",
       "      <td>6757</td>\n",
       "      <td>7</td>\n",
       "      <td>0</td>\n",
       "    </tr>\n",
       "  </tbody>\n",
       "</table>\n",
       "</div>"
      ],
      "text/plain": [
       "   item_id  video_duration  author_id  item_city  music_id\n",
       "0    46822        0.000229     231026          2      5330\n",
       "1  1209078        0.000057     456220          3     39979\n",
       "2  1209079        0.000129     456221          4         0\n",
       "3  1209081        0.000143     122067          6      3639\n",
       "4   269351        0.000057       6757          7         0"
      ]
     },
     "execution_count": 4,
     "metadata": {},
     "output_type": "execute_result"
    }
   ],
   "source": [
    "item_related_data_df = pd.read_csv(item_related_data_url,index_col=0)\n",
    "item_related_data_df.to_csv(\"./new_data/item_related_data_df.csv\")\n",
    "item_related_data_df.head()"
   ]
  },
  {
   "cell_type": "markdown",
   "id": "9f4a890c-cb7f-48c7-a3e2-7de937a24460",
   "metadata": {
    "tags": []
   },
   "source": [
    "### 数据预处理"
   ]
  },
  {
   "cell_type": "code",
   "execution_count": 108,
   "id": "ad90085f-e590-4658-8781-2d2a5e86ecc9",
   "metadata": {
    "tags": []
   },
   "outputs": [],
   "source": [
    "item_related_data_df = pd.read_csv(\"./new_data/item_related_data_df.csv\").iloc[:,1:]\n",
    "a_preliminary_data_processed = pd.read_csv(\"./new_data/a_preliminary_data_processed.csv\").iloc[:,1:]\n",
    "c_preliminary_data_processed = pd.read_csv(\"./new_data/c_preliminary_data_processed.csv\").iloc[:,1:]"
   ]
  },
  {
   "cell_type": "code",
   "execution_count": 7,
   "id": "75786e7b-f1c3-4dbf-bc6a-b49713e32454",
   "metadata": {},
   "outputs": [],
   "source": [
    "def process_dataframe(df, preliminary_data_df):\n",
    "    # df传进来去重\n",
    "    df = df.drop_duplicates(subset='item_id', keep='first')\n",
    "    \n",
    "    # 将 df 和 preliminary_data_df 依据 item_id 列合并\n",
    "    merged_df = preliminary_data_df.merge(df, on='item_id', how='left')\n",
    "    \n",
    "    # 删除缺失值\n",
    "    filled_df = merged_df.fillna(-1)\n",
    "\n",
    "    # 选择保留 df 的列\n",
    "    final_df = filled_df[df.columns]\n",
    "\n",
    "    return final_df"
   ]
  },
  {
   "cell_type": "markdown",
   "id": "49a1688b-ed61-4f04-b7f3-1f4134d0ac60",
   "metadata": {
    "tags": []
   },
   "source": [
    "#### item_related_data"
   ]
  },
  {
   "cell_type": "code",
   "execution_count": 8,
   "id": "fd869cf0-48c3-4809-a052-e13d2868d573",
   "metadata": {},
   "outputs": [],
   "source": [
    "item_related_data_matrix = process_dataframe(item_related_data_df,a_preliminary_data_processed).drop('item_id', axis=1).values\n",
    "c_item_related_data_matrix = process_dataframe(item_related_data_df,c_preliminary_data_processed).drop('item_id', axis=1).values\n",
    "np.save('./new_data/item_related_array2.npy', item_related_data_matrix)\n",
    "np.save('./new_data/c_item_related_array2.npy', c_item_related_data_matrix)"
   ]
  },
  {
   "cell_type": "markdown",
   "id": "7cb8b49a-57be-41ab-8e84-cb1b157b8478",
   "metadata": {
    "tags": []
   },
   "source": [
    "### 划分测试集与训练集"
   ]
  },
  {
   "cell_type": "code",
   "execution_count": 83,
   "id": "fb39966f-5b19-4204-8f2c-e782c4f72541",
   "metadata": {},
   "outputs": [],
   "source": [
    "a_preliminary_data_processed = pd.read_csv(\"./new_data/a_preliminary_data_processed.csv\").iloc[:,1:]\n",
    "a_preliminary_feats = a_preliminary_data_processed.drop(['item_id','user_id','label','create_time'],axis=1)"
   ]
  },
  {
   "cell_type": "code",
   "execution_count": 84,
   "id": "e9f1a1cc-dda9-4ab7-9796-727e1d08558e",
   "metadata": {},
   "outputs": [],
   "source": [
    "# 读取numpy数组\n",
    "item_related_array = np.load('./new_data/item_related_array2.npy')\n",
    "face_attrs_array = np.load('./new_data/face_attrs_array.npy')"
   ]
  },
  {
   "cell_type": "code",
   "execution_count": 85,
   "id": "70dad492-296b-4e93-b1e4-19d61f64dd62",
   "metadata": {},
   "outputs": [],
   "source": [
    "# 获取各个模态的训练和验证数据\n",
    "item_related_dim = item_related_array.shape[1]\n",
    "face_attrs_dim = face_attrs_array.shape[1]\n",
    "a_preliminary_dim = a_preliminary_feats.shape[1]"
   ]
  },
  {
   "cell_type": "code",
   "execution_count": 86,
   "id": "ced0c2a3-08a3-4d42-98c0-6f899a648db0",
   "metadata": {
    "tags": []
   },
   "outputs": [],
   "source": [
    "# 水平合并特征\n",
    "X = np.hstack((\n",
    "    a_preliminary_feats.values,  # 将DataFrame转换为numpy数组\n",
    "    item_related_array\n",
    "))\n",
    "y = a_preliminary_data_processed['label'].values"
   ]
  },
  {
   "cell_type": "code",
   "execution_count": 87,
   "id": "ec60f94f-3f1d-4b41-8e3c-f62de5bc4b86",
   "metadata": {
    "tags": []
   },
   "outputs": [],
   "source": [
    "# 将数据划分为训练集和测试集\n",
    "X_train, X_test, y_train, y_test = train_test_split(\n",
    "    X, y, test_size=0.2, random_state=42, stratify=y)\n",
    "\n",
    "# 对训练数据应用下采样\n",
    "class_ratio = {0: int(sum(y_train == 1) * 7), 1: sum(y_train == 1)}\n",
    "\n",
    "rus = RandomUnderSampler(sampling_strategy=class_ratio, random_state=42)\n",
    "X_train_resampled, y_train_resampled = rus.fit_resample(X_train, y_train)\n",
    "\n",
    "# 减少样本数量，降低时间成本\n",
    "X_test, _, y_test, _ = train_test_split(\n",
    "    X_test, y_test, test_size=0.5, random_state=42)\n",
    "\n",
    "# 提取a_preliminary和item_related特征\n",
    "a_preliminary_train = X_train_resampled[:, :a_preliminary_dim]\n",
    "a_preliminary_test = X_test[:, :a_preliminary_dim]\n",
    "\n",
    "item_related_train = X_train_resampled[:, a_preliminary_dim:]\n",
    "item_related_test = X_test[:, a_preliminary_dim:]\n"
   ]
  },
  {
   "cell_type": "code",
   "execution_count": 88,
   "id": "30077e2c-e67b-411a-a577-9a1db4b12785",
   "metadata": {},
   "outputs": [
    {
     "data": {
      "text/plain": [
       "<AxesSubplot:ylabel='None'>"
      ]
     },
     "execution_count": 88,
     "metadata": {},
     "output_type": "execute_result"
    },
    {
     "data": {
      "image/png": "[encoded data removed]",
      "text/plain": [
       "<Figure size 640x480 with 1 Axes>"
      ]
     },
     "metadata": {},
     "output_type": "display_data"
    }
   ],
   "source": [
    "pd.Series(y.tolist()).value_counts().plot.pie(legend=[0,1],autopct='%.2f%%')"
   ]
  },
  {
   "cell_type": "code",
   "execution_count": 89,
   "id": "fb5c3547-5be6-4b03-956e-9fa8e9519727",
   "metadata": {},
   "outputs": [
    {
     "data": {
      "text/plain": [
       "<AxesSubplot:ylabel='None'>"
      ]
     },
     "execution_count": 89,
     "metadata": {},
     "output_type": "execute_result"
    },
    {
     "data": {
      "image/png": "[encoded data removed]",
      "text/plain": [
       "<Figure size 640x480 with 1 Axes>"
      ]
     },
     "metadata": {},
     "output_type": "display_data"
    }
   ],
   "source": [
    "pd.Series(y_train_resampled.tolist()).value_counts().plot.pie(legend=[0,1],autopct='%.2f%%')"
   ]
  },
  {
   "cell_type": "code",
   "execution_count": 90,
   "id": "3c2c29f3-ab18-454c-98cf-8374369f0fbc",
   "metadata": {},
   "outputs": [],
   "source": [
    "# 保存训练数据\n",
    "np.save('./new_data/item_related_train.npy', item_related_train)\n",
    "np.save('./new_data/a_preliminary_train.npy', a_preliminary_train)\n",
    "np.save('./new_data/y_train_resampled.npy', y_train_resampled)\n",
    "\n",
    "# 保存验证数据\n",
    "np.save('./new_data/item_related_test.npy', item_related_test)\n",
    "np.save('./new_data/a_preliminary_test.npy', a_preliminary_test)\n",
    "np.save('./new_data/y_test.npy', y_test)"
   ]
  },
  {
   "cell_type": "markdown",
   "id": "78f3e8c3-4d63-4e4c-9b67-9e1a1f15fed1",
   "metadata": {
    "tags": []
   },
   "source": [
    "### 训练"
   ]
  },
  {
   "cell_type": "code",
   "execution_count": 4,
   "id": "264d1529-30de-4854-8406-d7ecc81614be",
   "metadata": {},
   "outputs": [],
   "source": [
    "# 加载数据\n",
    "item_related_train = np.load('./new_data/item_related_train.npy')\n",
    "a_preliminary_train = np.load('./new_data/a_preliminary_train.npy')\n",
    "y_train_resampled = np.load('./new_data/y_train_resampled.npy')\n",
    "\n",
    "item_related_test = np.load('./new_data/item_related_test.npy')\n",
    "a_preliminary_test = np.load('./new_data/a_preliminary_test.npy')\n",
    "y_test = np.load('./new_data/y_test.npy')\n",
    "\n",
    "item_related_val = np.load('./new_data/c_item_related_array2.npy')\n",
    "c_preliminary_data_processed = pd.read_csv(\"./new_data/c_preliminary_data_processed.csv\").iloc[:,1:]\n",
    "c_preliminary_feats = c_preliminary_data_processed.drop(['item_id','user_id','create_time'], axis=1)"
   ]
  },
  {
   "cell_type": "code",
   "execution_count": 8,
   "id": "bc6b8a4a-a670-4ada-b6c7-c978191b3770",
   "metadata": {},
   "outputs": [],
   "source": [
    "# 定义基础模型\n",
    "base_models = [\n",
    "    RandomForestClassifier(\n",
    "        n_estimators=2000,\n",
    "        max_depth=50,\n",
    "        min_samples_split=5,\n",
    "        min_samples_leaf=1,\n",
    "        max_features='auto',\n",
    "        bootstrap=True,\n",
    "        random_state=42,\n",
    "        n_jobs=-1\n",
    "    ),\n",
    "    XGBClassifier(\n",
    "        n_estimators=50,\n",
    "        max_depth=5,\n",
    "        learning_rate=0.01,\n",
    "        subsample=0.8,\n",
    "        colsample_bytree=0.8,\n",
    "        gamma=0.1,\n",
    "        reg_lambda=2,\n",
    "        reg_alpha=0.5,\n",
    "        min_child_weight=5,\n",
    "        objective='binary:logistic',\n",
    "        n_jobs=-1,\n",
    "        random_state=42\n",
    "    ),\n",
    "    LGBMClassifier(\n",
    "        n_estimators=500,\n",
    "        learning_rate=0.1,\n",
    "        num_leaves=31,\n",
    "        max_depth=10,\n",
    "        subsample=0.8,\n",
    "        colsample_bytree=0.8,\n",
    "        reg_lambda=1,\n",
    "        reg_alpha=0,\n",
    "        min_child_weight=1,\n",
    "        random_state=42,\n",
    "        n_jobs=-1\n",
    "    )\n",
    "]\n",
    "\n",
    "# 定义元模型\n",
    "meta_model = LogisticRegression(random_state=42)\n",
    "\n",
    "# 定义k折交叉验证\n",
    "kf = StratifiedKFold(n_splits=5, shuffle=True, random_state=42)\n",
    "\n",
    "# 准备保存基础模型的预测结果\n",
    "train_meta = np.zeros((y_train_resampled.shape[0], len(base_models)))\n",
    "test_meta = np.zeros((y_test.shape[0], len(base_models)))\n",
    "\n",
    "# 定义k折交叉验证\n",
    "kf = StratifiedKFold(n_splits=5, shuffle=True, random_state=42)\n",
    "\n",
    "# 准备保存基础模型的预测结果\n",
    "train_meta = np.zeros((y_train_resampled.shape[0], len(base_models)))\n",
    "test_meta = np.zeros((y_test.shape[0], len(base_models)))"
   ]
  },
  {
   "cell_type": "code",
   "execution_count": 9,
   "id": "6d33836e-e5d7-4dfa-bb34-6088e97be3ab",
   "metadata": {},
   "outputs": [],
   "source": [
    "# 为每个模态特征创建一个模型列表\n",
    "modalities = [\n",
    "    item_related_train,\n",
    "    a_preliminary_train\n",
    "]\n",
    "\n",
    "modalities_test = [\n",
    "    item_related_test,\n",
    "    a_preliminary_test\n",
    "]\n",
    "\n",
    "modalities_val = [\n",
    "    item_related_val,\n",
    "    c_preliminary_feats.values,\n",
    "]"
   ]
  },
  {
   "cell_type": "code",
   "execution_count": 11,
   "id": "9061e60b-9c3b-4ee1-b659-5f77a1048e4a",
   "metadata": {},
   "outputs": [
    {
     "name": "stderr",
     "output_type": "stream",
     "text": [
      "3it [10:39, 213.25s/it]\n"
     ]
    },
    {
     "name": "stdout",
     "output_type": "stream",
     "text": [
      "Weighted AUC = 0.9098323469829397\n"
     ]
    }
   ],
   "source": [
    "base_model_auc = []\n",
    "\n",
    "for idx, model in tqdm(enumerate(base_models)):\n",
    "    model_auc = [] \n",
    "    for i, (train_modality, test_modality) in enumerate(zip(modalities, modalities_test)):\n",
    "        cv_auc = []\n",
    "        for train_idx, test_idx in kf.split(train_modality, y_train_resampled):\n",
    "            model.fit(train_modality[train_idx], y_train_resampled[train_idx])\n",
    "            train_meta[test_idx, idx] += model.predict_proba(train_modality[test_idx])[:, 1] / len(modalities)\n",
    "            cv_auc.append(roc_auc_score(y_train_resampled[test_idx], model.predict_proba(train_modality[test_idx])[:, 1]))\n",
    "        model_auc.append(np.mean(cv_auc))\n",
    "        \n",
    "        model.fit(train_modality, y_train_resampled)\n",
    "        test_meta[:, idx] += model.predict_proba(test_modality)[:, 1] / len(modalities)\n",
    "    \n",
    "    base_model_auc.append(np.mean(model_auc)) \n",
    "\n",
    "# 计算基础模型的权重\n",
    "base_model_weights = np.array([x - 0.5 for x in base_model_auc]) / np.sum([x - 0.5 for x in base_model_auc])\n",
    "\n",
    "# 使用权重调整训练元数据和测试元数据\n",
    "train_meta_weighted = train_meta * base_model_weights.reshape(1, -1)\n",
    "test_meta_weighted = test_meta * base_model_weights.reshape(1, -1)\n",
    "\n",
    "meta_model.fit(train_meta_weighted, y_train_resampled)  # 使用调整后的训练元数据训练元模型\n",
    "\n",
    "test_pred_weighted = meta_model.predict_proba(test_meta_weighted)[:, 1]  # 使用调整后的测试元数据进行预测\n",
    "\n",
    "# 计算加权AUC\n",
    "weighted_auc = roc_auc_score(y_test, test_pred_weighted)\n",
    "print(f\"Weighted AUC = {weighted_auc}\")\n"
   ]
  },
  {
   "cell_type": "code",
   "execution_count": 12,
   "id": "83be391a-108d-43ab-8f9c-6ef244d7ffcd",
   "metadata": {},
   "outputs": [],
   "source": [
    "# 计算基础模型在验证集上的预测结果\n",
    "val_meta = np.zeros((c_preliminary_feats.shape[0], len(base_models)))\n",
    "\n",
    "for idx, model in enumerate(base_models):\n",
    "    for i, (train_modality, val_modality) in enumerate(zip(modalities, modalities_val)):\n",
    "        # 在整个训练集上训练基础模型\n",
    "        model.fit(train_modality, y_train_resampled)\n",
    "        \n",
    "        # 获取基础模型在验证集上的预测结果\n",
    "        val_meta[:, idx] += model.predict_proba(val_modality)[:, 1] / len(modalities)\n",
    "\n",
    "# 使用基础模型的预测结果训练元模型\n",
    "meta_model.fit(train_meta, y_train_resampled)\n",
    "\n",
    "# 使用元模型对验证集进行预测\n",
    "val_pred = meta_model.predict_proba(val_meta)[:, 1]"
   ]
  },
  {
   "cell_type": "code",
   "execution_count": 13,
   "id": "5c55ab2e-7215-411b-860b-370f991cd1b7",
   "metadata": {},
   "outputs": [
    {
     "data": {
      "image/png": "[encoded data removed]",
      "text/plain": [
       "<Figure size 640x480 with 1 Axes>"
      ]
     },
     "metadata": {},
     "output_type": "display_data"
    }
   ],
   "source": [
    "model_names = ['Random Forest', 'XGBoost', 'LightGBM']\n",
    "plt.bar(model_names, base_model_auc)\n",
    "plt.ylabel('AUC')\n",
    "plt.title('Average AUC of Base Models')\n",
    "plt.show()"
   ]
  },
  {
   "cell_type": "code",
   "execution_count": 15,
   "id": "27cf2099-935b-492c-91b7-1a6a161fd08e",
   "metadata": {},
   "outputs": [
    {
     "data": {
      "image/png": "[encoded data removed]",
      "text/plain": [
       "<Figure size 640x480 with 1 Axes>"
      ]
     },
     "metadata": {},
     "output_type": "display_data"
    }
   ],
   "source": [
    "fpr, tpr, thresholds = roc_curve(y_test, test_pred_weighted)\n",
    "roc_auc = auc(fpr, tpr)\n",
    "\n",
    "plt.plot(fpr, tpr, color='darkorange', lw=2, label=f'ROC curve (area = {roc_auc:.2f})')\n",
    "plt.plot([0, 1], [0, 1], color='navy', lw=2, linestyle='--')\n",
    "plt.xlim([0.0, 1.0])\n",
    "plt.ylim([0.0, 1.05])\n",
    "plt.xlabel('False Positive Rate')\n",
    "plt.ylabel('True Positive Rate')\n",
    "plt.title('Receiver Operating Characteristic (ROC) Curve')\n",
    "plt.legend(loc=\"lower right\")\n",
    "plt.show()"
   ]
  },
  {
   "cell_type": "code",
   "execution_count": 16,
   "id": "3f05a804-f120-4de9-982a-f32be4066738",
   "metadata": {},
   "outputs": [],
   "source": [
    "index = pd.read_csv(\"./com/C_final.csv\")[\"index\"]"
   ]
  },
  {
   "cell_type": "code",
   "execution_count": 17,
   "id": "a2906626-725d-45a7-87a8-97478cbf2819",
   "metadata": {},
   "outputs": [],
   "source": [
    "pd.DataFrame({'index':index,'predict':val_pred},index=index).to_csv(\"./C_final\"+str(random.sample(range(1,1000000000),1)[0])+'.csv') "
   ]
  },
  {
   "cell_type": "code",
   "execution_count": null,
   "id": "a87cccbe-810d-4dba-b988-bc927ae349d1",
   "metadata": {},
   "outputs": [],
   "source": []
  }
 ],
 "metadata": {
  "kernelspec": {
   "display_name": "Python 3 (ipykernel)",
   "language": "python",
   "name": "python3"
  },
  "language_info": {
   "codemirror_mode": {
    "name": "ipython",
    "version": 3
   },
   "file_extension": ".py",
   "mimetype": "text/x-python",
   "name": "python",
   "nbconvert_exporter": "python",
   "pygments_lexer": "ipython3",
   "version": "3.7.11"
  }
 },
 "nbformat": 4,
 "nbformat_minor": 5
}
